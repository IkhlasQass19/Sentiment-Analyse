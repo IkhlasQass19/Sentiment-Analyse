{
 "cells": [
  {
   "cell_type": "markdown",
   "metadata": {
    "id": "Tg-k1BGnotMw"
   },
   "source": [
    "## Importing Required Libraries"
   ]
  },
  {
   "cell_type": "code",
   "execution_count": 2,
   "metadata": {
    "_cell_guid": "b1076dfc-b9ad-4769-8c92-a6c4dae69d19",
    "_uuid": "8f2839f25d086af736a60e9eeb907d3b93b6e0e5",
    "id": "azo9SJ7kotMy"
   },
   "outputs": [],
   "source": [
    "import pandas as pd\n",
    "import os\n",
    "import glob as gb\n",
    "from tensorflow import keras\n",
    "\n",
    "from keras.models import Sequential\n",
    "from keras.layers import Conv2D\n",
    "from keras.layers import MaxPooling2D\n",
    "from keras.layers import Flatten\n",
    "from keras.layers import Dense"
   ]
  },
  {
   "cell_type": "markdown",
   "metadata": {
    "id": "V3R6D29FotM0"
   },
   "source": [
    "## Assigning Path for Dataset"
   ]
  },
  {
   "cell_type": "code",
   "execution_count": 3,
   "metadata": {
    "id": "v_X_9TYbotM0"
   },
   "outputs": [],
   "source": [
    "TRAIN_DIR = \"./dataset/train\"\n",
    "TEST_DIR = \"./dataset/test\"\n",
    "BATCH_SIZE=64"
   ]
  },
  {
   "cell_type": "markdown",
   "metadata": {
    "id": "MVn2cSRootM1"
   },
   "source": [
    "### Will see how many categories and images present"
   ]
  },
  {
   "cell_type": "code",
   "execution_count": 4,
   "metadata": {},
   "outputs": [
    {
     "name": "stdout",
     "output_type": "stream",
     "text": [
      "For training data, found 1896 in folder Anger\n",
      "For training data, found 1891 in folder Disgust\n",
      "For training data, found 1922 in folder Fear\n",
      "For training data, found 1922 in folder Happiness\n",
      "For training data, found 1922 in folder Sadness\n",
      "For training data, found 1922 in folder Surprise\n"
     ]
    }
   ],
   "source": [
    "for folder in os.listdir(TRAIN_DIR):\n",
    "    files = gb.glob(pathname= str(TRAIN_DIR+ '/'+ folder + '/*.jpg'))\n",
    "    print(f'For training data, found {len(files)} in folder {folder}')"
   ]
  },
  {
   "cell_type": "code",
   "execution_count": 5,
   "metadata": {},
   "outputs": [
    {
     "name": "stdout",
     "output_type": "stream",
     "text": [
      "For testing data, found 237 in folder Anger\n",
      "For testing data, found 237 in folder Disgust\n",
      "For testing data, found 241 in folder Fear\n",
      "For testing data, found 241 in folder Happiness\n",
      "For testing data, found 241 in folder Sadness\n",
      "For testing data, found 241 in folder Surprise\n"
     ]
    }
   ],
   "source": [
    "for folder in os.listdir(TEST_DIR):\n",
    "    files = gb.glob(pathname= str(TEST_DIR+ '/'+ folder + '/*.jpg'))\n",
    "    print(f'For testing data, found {len(files)} in folder {folder}')"
   ]
  },
  {
   "cell_type": "markdown",
   "metadata": {},
   "source": [
    "### Will see some random images withe their labels"
   ]
  },
  {
   "cell_type": "code",
   "execution_count": 6,
   "metadata": {},
   "outputs": [],
   "source": [
    "import random\n",
    "import matplotlib.pyplot as plt\n",
    "import matplotlib.image as mpimg\n",
    "\n",
    "def view_random_image(target_dir, target_class):\n",
    "    # We will view images from here\n",
    "    target_folder = target_dir + target_class\n",
    "    \n",
    "    # Get a random image path\n",
    "    random_image = random.sample(od.listdir(target_folder), 1)\n",
    "    \n",
    "    # read in the image and plot it using matplolib\n",
    "    img = mpimg.imread(target_folder+'/'+random_image[0])\n",
    "    plt.imshow(img)\n",
    "    plt.title(target_class)\n",
    "    plt.axis('off')\n",
    "    print(f\"Image shape {img.shape}\")\n",
    "    \n",
    "    return img"
   ]
  },
  {
   "cell_type": "code",
   "execution_count": 18,
   "metadata": {},
   "outputs": [],
   "source": [
    "class_names = ['Anger','Disgust','Fear','Happiness','Sadness','Surprise']"
   ]
  },
  {
   "cell_type": "markdown",
   "metadata": {},
   "source": [
    "### Preparing data for training"
   ]
  },
  {
   "cell_type": "code",
   "execution_count": 7,
   "metadata": {},
   "outputs": [
    {
     "name": "stdout",
     "output_type": "stream",
     "text": [
      "Found 11475 images belonging to 6 classes.\n",
      "Found 1438 images belonging to 6 classes.\n"
     ]
    }
   ],
   "source": [
    "from keras.preprocessing.image import ImageDataGenerator\n",
    "\n",
    "train_datagen = ImageDataGenerator(rescale = 1./255,\n",
    "                                   shear_range = 0.2,\n",
    "                                   zoom_range = 0.2,\n",
    "                                   horizontal_flip = True)\n",
    "\n",
    "test_datagen = ImageDataGenerator(rescale = 1./255)\n",
    "\n",
    "training_set = train_datagen.flow_from_directory(TRAIN_DIR,\n",
    "                                                 target_size = (128, 128),\n",
    "                                                 batch_size = BATCH_SIZE,\n",
    "                                                 class_mode = 'categorical')\n",
    "\n",
    "test_set = test_datagen.flow_from_directory(TEST_DIR,\n",
    "                                            target_size = (128, 128),\n",
    "                                            batch_size = BATCH_SIZE,\n",
    "                                            class_mode = 'categorical')"
   ]
  },
  {
   "cell_type": "markdown",
   "metadata": {},
   "source": [
    "### Basic model building (CNN Classifier)"
   ]
  },
  {
   "cell_type": "code",
   "execution_count": 8,
   "metadata": {},
   "outputs": [],
   "source": [
    "# Initialising the CNN\n",
    "classifier = Sequential()\n",
    "\n",
    "# Step 1 - Convolution\n",
    "classifier.add(Conv2D(16, (3, 3), input_shape = (128, 128, 3), activation = 'relu'))\n",
    "\n",
    "# Step 2 - Pooling\n",
    "classifier.add(MaxPooling2D(pool_size = (2, 2)))\n",
    "\n",
    "# Adding a second convolutional layer\n",
    "classifier.add(Conv2D(32, (3, 3), activation = 'relu'))\n",
    "classifier.add(MaxPooling2D(pool_size = (2, 2)))\n",
    "\n",
    "\n",
    "\n",
    "# Step 3 - Flattening\n",
    "classifier.add(Flatten())\n",
    "\n",
    "# Step 4 - Full connection\n",
    "classifier.add(Dense(units = 128, activation = 'relu'))\n",
    "\n",
    "classifier.add(Dense(units = 6, activation = 'softmax'))\n",
    "\n",
    "# Compiling the CNN\n",
    "classifier.compile(optimizer = 'adam', loss = 'categorical_crossentropy', metrics = ['accuracy'])"
   ]
  },
  {
   "cell_type": "code",
   "execution_count": 9,
   "metadata": {},
   "outputs": [
    {
     "name": "stdout",
     "output_type": "stream",
     "text": [
      "Model: \"sequential\"\n",
      "_________________________________________________________________\n",
      " Layer (type)                Output Shape              Param #   \n",
      "=================================================================\n",
      " conv2d (Conv2D)             (None, 126, 126, 16)      448       \n",
      "                                                                 \n",
      " max_pooling2d (MaxPooling2  (None, 63, 63, 16)        0         \n",
      " D)                                                              \n",
      "                                                                 \n",
      " conv2d_1 (Conv2D)           (None, 61, 61, 32)        4640      \n",
      "                                                                 \n",
      " max_pooling2d_1 (MaxPoolin  (None, 30, 30, 32)        0         \n",
      " g2D)                                                            \n",
      "                                                                 \n",
      " flatten (Flatten)           (None, 28800)             0         \n",
      "                                                                 \n",
      " dense (Dense)               (None, 128)               3686528   \n",
      "                                                                 \n",
      " dense_1 (Dense)             (None, 6)                 774       \n",
      "                                                                 \n",
      "=================================================================\n",
      "Total params: 3692390 (14.09 MB)\n",
      "Trainable params: 3692390 (14.09 MB)\n",
      "Non-trainable params: 0 (0.00 Byte)\n",
      "_________________________________________________________________\n"
     ]
    }
   ],
   "source": [
    "## model summary\n",
    "classifier.summary()"
   ]
  },
  {
   "cell_type": "code",
   "execution_count": 14,
   "metadata": {},
   "outputs": [
    {
     "name": "stdout",
     "output_type": "stream",
     "text": [
      "Epoch 1/50\n",
      "180/180 [==============================] - 175s 962ms/step - loss: 1.7369 - accuracy: 0.2602 - val_loss: 1.5757 - val_accuracy: 0.3512\n",
      "Epoch 2/50\n",
      "180/180 [==============================] - 196s 1s/step - loss: 1.4669 - accuracy: 0.4050 - val_loss: 1.3578 - val_accuracy: 0.4492\n",
      "Epoch 3/50\n",
      "180/180 [==============================] - 182s 1s/step - loss: 1.2669 - accuracy: 0.4919 - val_loss: 1.1265 - val_accuracy: 0.5494\n",
      "Epoch 4/50\n",
      "180/180 [==============================] - 163s 905ms/step - loss: 1.1049 - accuracy: 0.5649 - val_loss: 1.0495 - val_accuracy: 0.5911\n",
      "Epoch 5/50\n",
      "180/180 [==============================] - 164s 908ms/step - loss: 0.9866 - accuracy: 0.6146 - val_loss: 0.9312 - val_accuracy: 0.6321\n",
      "Epoch 6/50\n",
      "180/180 [==============================] - 170s 946ms/step - loss: 0.9085 - accuracy: 0.6485 - val_loss: 0.9345 - val_accuracy: 0.6412\n",
      "Epoch 7/50\n",
      "180/180 [==============================] - 169s 938ms/step - loss: 0.8352 - accuracy: 0.6786 - val_loss: 0.7908 - val_accuracy: 0.6947\n",
      "Epoch 8/50\n",
      "180/180 [==============================] - 169s 937ms/step - loss: 0.7725 - accuracy: 0.7035 - val_loss: 0.8019 - val_accuracy: 0.6919\n",
      "Epoch 9/50\n",
      "180/180 [==============================] - 526s 3s/step - loss: 0.7293 - accuracy: 0.7247 - val_loss: 0.8251 - val_accuracy: 0.6794\n",
      "Epoch 10/50\n",
      "180/180 [==============================] - 152s 846ms/step - loss: 0.6796 - accuracy: 0.7459 - val_loss: 0.6130 - val_accuracy: 0.7754\n",
      "Epoch 11/50\n",
      "180/180 [==============================] - 174s 964ms/step - loss: 0.6558 - accuracy: 0.7553 - val_loss: 0.6257 - val_accuracy: 0.7650\n",
      "Epoch 12/50\n",
      "180/180 [==============================] - 173s 959ms/step - loss: 0.6172 - accuracy: 0.7702 - val_loss: 0.5641 - val_accuracy: 0.7837\n",
      "Epoch 13/50\n",
      "180/180 [==============================] - 174s 963ms/step - loss: 0.5800 - accuracy: 0.7831 - val_loss: 0.6868 - val_accuracy: 0.7434\n",
      "Epoch 14/50\n",
      "180/180 [==============================] - 177s 983ms/step - loss: 0.5679 - accuracy: 0.7922 - val_loss: 0.5606 - val_accuracy: 0.7830\n",
      "Epoch 15/50\n",
      "180/180 [==============================] - 172s 955ms/step - loss: 0.5341 - accuracy: 0.8015 - val_loss: 0.6293 - val_accuracy: 0.7643\n",
      "Epoch 16/50\n",
      "180/180 [==============================] - 176s 978ms/step - loss: 0.5157 - accuracy: 0.8085 - val_loss: 0.5357 - val_accuracy: 0.8018\n",
      "Epoch 17/50\n",
      "180/180 [==============================] - 177s 985ms/step - loss: 0.4954 - accuracy: 0.8203 - val_loss: 0.6182 - val_accuracy: 0.7684\n",
      "Epoch 18/50\n",
      "180/180 [==============================] - 176s 974ms/step - loss: 0.4882 - accuracy: 0.8191 - val_loss: 0.5607 - val_accuracy: 0.7928\n",
      "Epoch 19/50\n",
      "180/180 [==============================] - 173s 957ms/step - loss: 0.4585 - accuracy: 0.8336 - val_loss: 0.5466 - val_accuracy: 0.8004\n",
      "Epoch 20/50\n",
      "180/180 [==============================] - 174s 965ms/step - loss: 0.4400 - accuracy: 0.8394 - val_loss: 0.5071 - val_accuracy: 0.8095\n",
      "Epoch 21/50\n",
      "180/180 [==============================] - 175s 973ms/step - loss: 0.4420 - accuracy: 0.8373 - val_loss: 0.5938 - val_accuracy: 0.7823\n",
      "Epoch 22/50\n",
      "180/180 [==============================] - 172s 955ms/step - loss: 0.4204 - accuracy: 0.8457 - val_loss: 0.4164 - val_accuracy: 0.8401\n",
      "Epoch 23/50\n",
      "180/180 [==============================] - 172s 957ms/step - loss: 0.3947 - accuracy: 0.8526 - val_loss: 0.5420 - val_accuracy: 0.7921\n",
      "Epoch 24/50\n",
      "180/180 [==============================] - 175s 974ms/step - loss: 0.3971 - accuracy: 0.8580 - val_loss: 0.4750 - val_accuracy: 0.8220\n",
      "Epoch 25/50\n",
      "180/180 [==============================] - 176s 979ms/step - loss: 0.3852 - accuracy: 0.8580 - val_loss: 0.5400 - val_accuracy: 0.7955\n",
      "Epoch 26/50\n",
      "180/180 [==============================] - 176s 975ms/step - loss: 0.3741 - accuracy: 0.8636 - val_loss: 0.3803 - val_accuracy: 0.8602\n",
      "Epoch 27/50\n",
      "180/180 [==============================] - 175s 970ms/step - loss: 0.3620 - accuracy: 0.8680 - val_loss: 0.3849 - val_accuracy: 0.8519\n",
      "Epoch 28/50\n",
      "180/180 [==============================] - 67902s 379s/step - loss: 0.3489 - accuracy: 0.8742 - val_loss: 0.4268 - val_accuracy: 0.8533\n",
      "Epoch 29/50\n",
      "180/180 [==============================] - 186s 1s/step - loss: 0.3464 - accuracy: 0.8714 - val_loss: 0.5347 - val_accuracy: 0.8088\n",
      "Epoch 30/50\n",
      "180/180 [==============================] - 172s 955ms/step - loss: 0.3312 - accuracy: 0.8820 - val_loss: 0.5202 - val_accuracy: 0.8289\n",
      "Epoch 31/50\n",
      "180/180 [==============================] - 178s 987ms/step - loss: 0.3299 - accuracy: 0.8820 - val_loss: 0.3886 - val_accuracy: 0.8658\n",
      "Epoch 32/50\n",
      "180/180 [==============================] - 187s 1s/step - loss: 0.3074 - accuracy: 0.8852 - val_loss: 0.3555 - val_accuracy: 0.8693\n",
      "Epoch 33/50\n",
      "180/180 [==============================] - 191s 1s/step - loss: 0.3097 - accuracy: 0.8854 - val_loss: 0.4003 - val_accuracy: 0.8505\n",
      "Epoch 34/50\n",
      "180/180 [==============================] - 176s 978ms/step - loss: 0.3028 - accuracy: 0.8890 - val_loss: 0.4285 - val_accuracy: 0.8331\n",
      "Epoch 35/50\n",
      "180/180 [==============================] - 188s 1s/step - loss: 0.2882 - accuracy: 0.8930 - val_loss: 0.3865 - val_accuracy: 0.8679\n",
      "Epoch 36/50\n",
      "180/180 [==============================] - 196s 1s/step - loss: 0.2940 - accuracy: 0.8935 - val_loss: 0.4424 - val_accuracy: 0.8477\n",
      "Epoch 37/50\n",
      "180/180 [==============================] - 173s 958ms/step - loss: 0.2844 - accuracy: 0.8991 - val_loss: 0.3592 - val_accuracy: 0.8713\n",
      "Epoch 38/50\n",
      "180/180 [==============================] - 124s 683ms/step - loss: 0.2946 - accuracy: 0.8948 - val_loss: 0.3378 - val_accuracy: 0.8734\n",
      "Epoch 39/50\n",
      "180/180 [==============================] - 128s 708ms/step - loss: 0.2723 - accuracy: 0.9027 - val_loss: 0.6178 - val_accuracy: 0.8143\n",
      "Epoch 40/50\n",
      "180/180 [==============================] - 103s 571ms/step - loss: 0.2634 - accuracy: 0.9061 - val_loss: 0.3584 - val_accuracy: 0.8783\n",
      "Epoch 41/50\n",
      "180/180 [==============================] - 109s 608ms/step - loss: 0.2544 - accuracy: 0.9072 - val_loss: 0.3647 - val_accuracy: 0.8707\n",
      "Epoch 42/50\n",
      "180/180 [==============================] - 138s 767ms/step - loss: 0.2535 - accuracy: 0.9081 - val_loss: 0.4598 - val_accuracy: 0.8519\n",
      "Epoch 43/50\n",
      "180/180 [==============================] - 111s 614ms/step - loss: 0.2552 - accuracy: 0.9055 - val_loss: 0.3633 - val_accuracy: 0.8769\n",
      "Epoch 44/50\n",
      "180/180 [==============================] - 120s 669ms/step - loss: 0.2488 - accuracy: 0.9085 - val_loss: 0.3545 - val_accuracy: 0.8769\n",
      "Epoch 45/50\n",
      "180/180 [==============================] - 119s 660ms/step - loss: 0.2435 - accuracy: 0.9146 - val_loss: 0.3213 - val_accuracy: 0.8860\n",
      "Epoch 46/50\n",
      "180/180 [==============================] - 119s 662ms/step - loss: 0.2325 - accuracy: 0.9147 - val_loss: 0.3594 - val_accuracy: 0.8755\n",
      "Epoch 47/50\n",
      "180/180 [==============================] - 156s 868ms/step - loss: 0.2498 - accuracy: 0.9121 - val_loss: 0.3333 - val_accuracy: 0.8832\n",
      "Epoch 48/50\n",
      "180/180 [==============================] - 149s 826ms/step - loss: 0.2347 - accuracy: 0.9152 - val_loss: 0.4147 - val_accuracy: 0.8637\n",
      "Epoch 49/50\n",
      "180/180 [==============================] - 125s 695ms/step - loss: 0.2125 - accuracy: 0.9256 - val_loss: 0.3243 - val_accuracy: 0.8964\n",
      "Epoch 50/50\n",
      "180/180 [==============================] - 130s 722ms/step - loss: 0.2246 - accuracy: 0.9218 - val_loss: 0.3214 - val_accuracy: 0.8908\n"
     ]
    },
    {
     "name": "stderr",
     "output_type": "stream",
     "text": [
      "C:\\Users\\XPS\\AppData\\Local\\Programs\\Python\\Python39\\lib\\site-packages\\keras\\src\\engine\\training.py:3079: UserWarning: You are saving your model as an HDF5 file via `model.save()`. This file format is considered legacy. We recommend using instead the native Keras format, e.g. `model.save('my_model.keras')`.\n",
      "  saving_api.save_model(\n"
     ]
    }
   ],
   "source": [
    "history = classifier.fit(training_set,\n",
    "                         epochs = 50,\n",
    "                         validation_data = test_set)\n",
    "\n",
    "\n",
    "classifier.save('model1.h5')  # creates a HDF5 file 'my_model.h5'"
   ]
  },
  {
   "cell_type": "markdown",
   "metadata": {
    "id": "tpGXzml5nvkz"
   },
   "source": [
    "### Evaluating the model"
   ]
  },
  {
   "cell_type": "code",
   "execution_count": 15,
   "metadata": {},
   "outputs": [
    {
     "name": "stdout",
     "output_type": "stream",
     "text": [
      "23/23 [==============================] - 6s 240ms/step - loss: 0.3214 - accuracy: 0.8908\n"
     ]
    },
    {
     "data": {
      "text/plain": [
       "[0.32136282324790955, 0.8908205628395081]"
      ]
     },
     "execution_count": 15,
     "metadata": {},
     "output_type": "execute_result"
    }
   ],
   "source": [
    "classifier.evaluate(test_set)"
   ]
  },
  {
   "cell_type": "code",
   "execution_count": 16,
   "metadata": {},
   "outputs": [
    {
     "ename": "NameError",
     "evalue": "name 'plr' is not defined",
     "output_type": "error",
     "traceback": [
      "\u001b[1;31m---------------------------------------------------------------------------\u001b[0m",
      "\u001b[1;31mNameError\u001b[0m                                 Traceback (most recent call last)",
      "Cell \u001b[1;32mIn[16], line 3\u001b[0m\n\u001b[0;32m      1\u001b[0m pd\u001b[38;5;241m.\u001b[39mDataFrame(history\u001b[38;5;241m.\u001b[39mhistory)[[\u001b[38;5;124m'\u001b[39m\u001b[38;5;124mloss\u001b[39m\u001b[38;5;124m'\u001b[39m,\u001b[38;5;124m'\u001b[39m\u001b[38;5;124mval_loss\u001b[39m\u001b[38;5;124m'\u001b[39m]]\u001b[38;5;241m.\u001b[39mplot()\n\u001b[0;32m      2\u001b[0m plt\u001b[38;5;241m.\u001b[39mtitle(\u001b[38;5;124m'\u001b[39m\u001b[38;5;124mLoss\u001b[39m\u001b[38;5;124m'\u001b[39m)\n\u001b[1;32m----> 3\u001b[0m \u001b[43mplr\u001b[49m\u001b[38;5;241m.\u001b[39mxlabel(\u001b[38;5;124m'\u001b[39m\u001b[38;5;124mepochs\u001b[39m\u001b[38;5;124m'\u001b[39m)\n\u001b[0;32m      4\u001b[0m plt\u001b[38;5;241m.\u001b[39mylabel(\u001b[38;5;124m'\u001b[39m\u001b[38;5;124mLoss\u001b[39m\u001b[38;5;124m'\u001b[39m)\n",
      "\u001b[1;31mNameError\u001b[0m: name 'plr' is not defined"
     ]
    },
    {
     "data": {
      "image/png": "[encoded data removed]",
      "text/plain": [
       "<Figure size 640x480 with 1 Axes>"
      ]
     },
     "metadata": {},
     "output_type": "display_data"
    }
   ],
   "source": [
    "pd.DataFrame(history.history)[['loss','val_loss']].plot()\n",
    "plt.title('Loss')\n",
    "plr.xlabel('epochs')\n",
    "plt.ylabel('Loss')"
   ]
  },
  {
   "cell_type": "code",
   "execution_count": 18,
   "metadata": {},
   "outputs": [
    {
     "data": {
      "text/plain": [
       "Text(0, 0.5, 'Accuracy')"
      ]
     },
     "execution_count": 18,
     "metadata": {},
     "output_type": "execute_result"
    },
    {
     "data": {
      "image/png": "[encoded data removed]",
      "text/plain": [
       "<Figure size 640x480 with 1 Axes>"
      ]
     },
     "metadata": {},
     "output_type": "display_data"
    }
   ],
   "source": [
    "pd.DataFrame(history.history)[['accuracy','val_accuracy']].plot()\n",
    "plt.title('Accuracy')\n",
    "plt.xlabel('epochs')\n",
    "plt.ylabel('Accuracy')"
   ]
  },
  {
   "cell_type": "code",
   "execution_count": 19,
   "metadata": {},
   "outputs": [
    {
     "name": "stdout",
     "output_type": "stream",
     "text": [
      "1/1 [==============================] - 0s 108ms/step\n"
     ]
    },
    {
     "data": {
      "text/plain": [
       "3"
      ]
     },
     "execution_count": 19,
     "metadata": {},
     "output_type": "execute_result"
    }
   ],
   "source": [
    "model_path = \"model1.h5\"\n",
    "loaded_model = keras.models.load_model(model_path)\n",
    "\n",
    "import matplotlib.pyplot as plt\n",
    "import numpy as np\n",
    "import cv2\n",
    "from PIL import Image\n",
    "\n",
    "image = cv2.imread(\"00000.jpg\")\n",
    "\n",
    "image_fromarray = Image.fromarray(image, 'RGB')\n",
    "resize_image = image_fromarray.resize((128, 128))\n",
    "expand_input = np.expand_dims(resize_image,axis=0)\n",
    "input_data = np.array(expand_input)\n",
    "input_data = input_data/255\n",
    "\n",
    "pred = loaded_model.predict(input_data)\n",
    "result = pred.argmax()\n",
    "result"
   ]
  },
  {
   "cell_type": "code",
   "execution_count": 20,
   "metadata": {},
   "outputs": [
    {
     "data": {
      "text/plain": [
       "{'Anger': 0,\n",
       " 'Disgust': 1,\n",
       " 'Fear': 2,\n",
       " 'Happiness': 3,\n",
       " 'Sadness': 4,\n",
       " 'Surprise': 5}"
      ]
     },
     "execution_count": 20,
     "metadata": {},
     "output_type": "execute_result"
    }
   ],
   "source": [
    "training_set.class_indices"
   ]
  },
  {
   "cell_type": "code",
   "execution_count": null,
   "metadata": {},
   "outputs": [],
   "source": []
  }
 ],
 "metadata": {
  "accelerator": "GPU",
  "colab": {
   "collapsed_sections": [],
   "name": "Traffic_sign.ipynb",
   "provenance": [],
   "toc_visible": true
  },
  "kernelspec": {
   "display_name": "Python 3 (ipykernel)",
   "language": "python",
   "name": "python3"
  },
  "language_info": {
   "codemirror_mode": {
    "name": "ipython",
    "version": 3
   },
   "file_extension": ".py",
   "mimetype": "text/x-python",
   "name": "python",
   "nbconvert_exporter": "python",
   "pygments_lexer": "ipython3",
   "version": "3.9.9"
  }
 },
 "nbformat": 4,
 "nbformat_minor": 4
}
